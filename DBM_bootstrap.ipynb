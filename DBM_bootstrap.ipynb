{
 "cells": [
  {
   "cell_type": "code",
   "execution_count": 3,
   "metadata": {},
   "outputs": [],
   "source": [
    "def DBM_sample_filename(r):\n",
    "    # dir_ = \"/mnt/out/out_s/\"\n",
    "    dir_ = \"/data/origami/niusha/out/out_s/\"\n",
    "    if r>=0 and r<=9:\n",
    "        return dir_ + \"000\" + str(r) + \".nii.gz\"\n",
    "    elif r>=10 and r<=99:\n",
    "        return dir_ + \"00\" + str(r) + \".nii.gz\"\n",
    "    else:\n",
    "        return dir_ + \"0\" + str(r) + \".nii.gz\"\n"
   ]
  },
  {
   "cell_type": "code",
   "execution_count": 4,
   "metadata": {},
   "outputs": [],
   "source": [
    "import numpy as np\n",
    "import pandas as pd\n",
    "\n",
    "# subject_df = pd.read_csv(\"/mnt/input/subject_IDs.csv\")\n",
    "subject_df = pd.read_csv(\"/data/origami/niusha/input/subject_IDs.csv\")\n",
    "\n",
    "\n",
    "N = len(subject_df.ID)\n",
    "ID_map = dict(zip(range(N),subject_df.ID))\n",
    "\n",
    "Healthy_index = np.where(subject_df.PD == 0)\n",
    "Healthy_subject = subject_df.ID.iloc[Healthy_index]\n",
    "\n",
    "PD_index = np.where(subject_df.PD == 1)\n",
    "PD_subject = subject_df.ID.iloc[PD_index]"
   ]
  },
  {
   "cell_type": "code",
   "execution_count": 7,
   "metadata": {},
   "outputs": [],
   "source": [
    "from random import sample\n",
    "\n",
    "list_of_subjects = [i for i in range(N)]\n",
    "\n",
    "PD_sample = sample((PD_index[0]).tolist(), len(PD_index[0]))\n",
    "Healthy_sample = sample((Healthy_index[0]).tolist(), len(Healthy_index[0]))"
   ]
  },
  {
   "cell_type": "code",
   "execution_count": 8,
   "metadata": {},
   "outputs": [],
   "source": [
    "def read_samples_filename(filename, ID_list):    \n",
    "    f = open(filename, \"w\")\n",
    "    for id in ID_list:\n",
    "        f.write(DBM_sample_filename(id)+ \"\\n\")\n",
    "    f.close()"
   ]
  },
  {
   "cell_type": "code",
   "execution_count": 9,
   "metadata": {},
   "outputs": [],
   "source": [
    "read_samples_filename(\"PD.txt\", PD_sample)\n",
    "read_samples_filename(\"H.txt\", Healthy_sample)"
   ]
  },
  {
   "cell_type": "code",
   "execution_count": null,
   "metadata": {},
   "outputs": [],
   "source": [
    "%%bash\n",
    "melodic -i /mnt/input/PD.txt -a concat -o /mnt/out/pd_ica --nobet -d 30"
   ]
  }
 ],
 "metadata": {
  "kernelspec": {
   "display_name": "Python 3.10.9 ('py10': conda)",
   "language": "python",
   "name": "python3"
  },
  "language_info": {
   "codemirror_mode": {
    "name": "ipython",
    "version": 3
   },
   "file_extension": ".py",
   "mimetype": "text/x-python",
   "name": "python",
   "nbconvert_exporter": "python",
   "pygments_lexer": "ipython3",
   "version": "3.10.9"
  },
  "orig_nbformat": 4,
  "vscode": {
   "interpreter": {
    "hash": "1c5fa777ceb0906119a47da9a7e66e1e3a19797b50ab3b23022dcca9de5b6187"
   }
  }
 },
 "nbformat": 4,
 "nbformat_minor": 2
}
