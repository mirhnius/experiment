{
 "cells": [
  {
   "cell_type": "code",
   "execution_count": 1,
   "metadata": {},
   "outputs": [],
   "source": [
    "def DBM_sample_filename(r):\n",
    "    dir_ = \"/mnt/out/out_2/vol\"\n",
    "    #dir_ = \"/data/origami/niusha/out/out_s/\"\n",
    "    if r>=0 and r<=9:\n",
    "        return dir_ + \"000\" + str(r) + \".nii.gz\"\n",
    "    elif r>=10 and r<=99:\n",
    "        return dir_ + \"00\" + str(r) + \".nii.gz\"\n",
    "    else:\n",
    "        return dir_ + \"0\" + str(r) + \".nii.gz\"\n"
   ]
  },
  {
   "cell_type": "code",
   "execution_count": null,
   "metadata": {},
   "outputs": [],
   "source": []
  },
  {
   "cell_type": "code",
   "execution_count": 2,
   "metadata": {},
   "outputs": [],
   "source": [
    "import numpy as np\n",
    "import pandas as pd\n",
    "\n",
    "# subject_df = pd.read_csv(\"/mnt/input/subject_IDs.csv\")\n",
    "subject_df = pd.read_csv(\"/data/origami/niusha/input/subject_IDs.csv\")\n",
    "\n",
    "\n",
    "N = len(subject_df.ID)\n",
    "ID_map = dict(zip(range(N),subject_df.ID))\n",
    "\n",
    "Healthy_index = np.where(subject_df.PD == 0)\n",
    "Healthy_subject = subject_df.ID.iloc[Healthy_index]\n",
    "\n",
    "PD_index = np.where(subject_df.PD == 1)\n",
    "PD_subject = subject_df.ID.iloc[PD_index]"
   ]
  },
  {
   "cell_type": "code",
   "execution_count": 14,
   "metadata": {},
   "outputs": [],
   "source": [
    "from random import sample\n",
    "\n",
    "list_of_subjects = [i for i in range(N)]\n",
    "\n",
    "PD_sample = sample((PD_index[0]).tolist(), len(PD_index[0]))\n",
    "Healthy_sample = sample((Healthy_index[0]).tolist(), len(Healthy_index[0]))"
   ]
  },
  {
   "cell_type": "code",
   "execution_count": 15,
   "metadata": {},
   "outputs": [],
   "source": [
    "def write_samples_filename(filename, ID_list):    \n",
    "    f = open(filename, \"w\")\n",
    "    for id in ID_list:\n",
    "        f.write(DBM_sample_filename(id)+ \"\\n\")\n",
    "    f.close()"
   ]
  },
  {
   "cell_type": "code",
   "execution_count": 16,
   "metadata": {},
   "outputs": [],
   "source": [
    "write_samples_filename(\"/data/origami/niusha/input/PD.txt\", PD_sample)\n",
    "write_samples_filename(\"/data/origami/niusha/input/H.txt\", Healthy_sample)"
   ]
  },
  {
   "cell_type": "code",
   "execution_count": null,
   "metadata": {},
   "outputs": [],
   "source": [
    "\"\"\"\"\n",
    "melodic -i /mnt/input/PD.txt -a concat -o /mnt/out/pd_ica --nobet -d 30\n",
    "\n",
    "singularity shell --bind /data/origami/niusha/input:/mnt/input:ro --bind /data/origami/niusha/out:/mnt/out /data/origami/niusha/fsl_python.sif\n",
    "\"\"\""
   ]
  },
  {
   "cell_type": "code",
   "execution_count": null,
   "metadata": {},
   "outputs": [],
   "source": [
    "melodic -i /mnt/out/test.nii.gz -o /mnt/out/pd_ica"
   ]
  },
  {
   "cell_type": "code",
   "execution_count": null,
   "metadata": {},
   "outputs": [],
   "source": [
    "fslsplit /mnt/input/DBM_data.nii.gz -t /mnt/out/out_2"
   ]
  },
  {
   "cell_type": "code",
   "execution_count": null,
   "metadata": {},
   "outputs": [],
   "source": [
    "fslsplit /mnt/out/ica_original_maps/melodic_IC_thr_bin.nii.gz -t /mnt/out/ica_original_maps/masks "
   ]
  },
  {
   "cell_type": "code",
   "execution_count": null,
   "metadata": {},
   "outputs": [],
   "source": [
    "fslmeants /mnt/input/DBM_data.nii.gz  -m /mnt/out/ica_original_maps/masks/vol0000.nii.gz /mnt/out/ica_original_maps/ic_mean/mean0.txt"
   ]
  },
  {
   "cell_type": "code",
   "execution_count": null,
   "metadata": {},
   "outputs": [],
   "source": [
    "fslinfo /mnt/out/out_2/vol0000.nii.gz"
   ]
  },
  {
   "cell_type": "code",
   "execution_count": null,
   "metadata": {},
   "outputs": [],
   "source": [
    "INPUT_LIST=\"/mnt/input/PD.txt\" # your list of filenames (0001.nii.gz etc.)\n",
    "\n",
    "COMMAND=\"fslmerge -t /mnt/out/PD_test_merge_232.nii.gz\" # beginning of the command\n",
    "\n",
    "# loop over the input list (not sure if this works)\n",
    "while IFS=\"\" read -r FILENAME || [ -n \"$FILENAME\" ]\n",
    "do\n",
    "    # echo ${FILENAME}\n",
    "  # append to command\n",
    "  COMMAND=\"${COMMAND} ${FILENAME}\"\n",
    "\n",
    "done < $INPUT_LIST\n",
    "\n",
    "echo $COMMAND\n",
    "eval $COMMAND"
   ]
  },
  {
   "cell_type": "code",
   "execution_count": null,
   "metadata": {},
   "outputs": [],
   "source": [
    "melodic -i /mnt/out/PD_test_merge.nii.gz -o /mnt/out/pd_ica_test -v"
   ]
  },
  {
   "cell_type": "code",
   "execution_count": null,
   "metadata": {},
   "outputs": [],
   "source": [
    "fslmaths /mnt/out/ica_original_maps/melodic_IC.nii.gz -thr 3 -bin /mnt/out/ica_original_maps/melodic_IC_thr_bin.nii.gz"
   ]
  },
  {
   "cell_type": "code",
   "execution_count": 2,
   "metadata": {},
   "outputs": [
    {
     "name": "stdout",
     "output_type": "stream",
     "text": [
      "bash: warning: setlocale: LC_ALL: cannot change locale (en_CA.UTF-8)\n",
      "Singularity> ^C\n",
      "\n",
      "Singularity> "
     ]
    }
   ],
   "source": []
  },
  {
   "cell_type": "code",
   "execution_count": 3,
   "metadata": {},
   "outputs": [
    {
     "data": {
      "text/plain": [
       "numpy.ndarray"
      ]
     },
     "execution_count": 3,
     "metadata": {},
     "output_type": "execute_result"
    }
   ],
   "source": [
    "type(PD_index[0])"
   ]
  },
  {
   "cell_type": "code",
   "execution_count": null,
   "metadata": {},
   "outputs": [],
   "source": []
  }
 ],
 "metadata": {
  "kernelspec": {
   "display_name": "Python 3.9.12 ('base': conda)",
   "language": "python",
   "name": "python3"
  },
  "language_info": {
   "codemirror_mode": {
    "name": "ipython",
    "version": 3
   },
   "file_extension": ".py",
   "mimetype": "text/x-python",
   "name": "python",
   "nbconvert_exporter": "python",
   "pygments_lexer": "ipython3",
   "version": "3.9.16"
  },
  "orig_nbformat": 4,
  "vscode": {
   "interpreter": {
    "hash": "2e6114855ba1a4d6c35a41edbc290e56801ad2854d82bfb8bfb7b8b5d5c81da5"
   }
  }
 },
 "nbformat": 4,
 "nbformat_minor": 2
}
