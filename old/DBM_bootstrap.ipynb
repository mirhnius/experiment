{
 "cells": [
  {
   "cell_type": "code",
   "execution_count": 1,
   "metadata": {},
   "outputs": [],
   "source": [
    "def DBM_sample_filename(r):\n",
    "    dir_ = \"/mnt/out/out_2/vol\"\n",
    "    #dir_ = \"/data/origami/niusha/out/out_s/\"\n",
    "    if r>=0 and r<=9:\n",
    "        return dir_ + \"000\" + str(r) + \".nii.gz\"\n",
    "    elif r>=10 and r<=99:\n",
    "        return dir_ + \"00\" + str(r) + \".nii.gz\"\n",
    "    else:\n",
    "        return dir_ + \"0\" + str(r) + \".nii.gz\"\n"
   ]
  },
  {
   "cell_type": "code",
   "execution_count": 2,
   "metadata": {},
   "outputs": [],
   "source": [
    "import numpy as np\n",
    "import pandas as pd\n",
    "\n",
    "# subject_df = pd.read_csv(\"/mnt/input/subject_IDs.csv\")\n",
    "subject_df = pd.read_csv(\"/data/origami/niusha/input/subject_IDs.csv\")\n",
    "\n",
    "\n",
    "N = len(subject_df.ID)\n",
    "ID_map = dict(zip(range(N),subject_df.ID))\n",
    "\n",
    "Healthy_index = np.where(subject_df.PD == 0)\n",
    "Healthy_subject = subject_df.ID.iloc[Healthy_index]\n",
    "\n",
    "PD_index = np.where(subject_df.PD == 1)\n",
    "PD_subject = subject_df.ID.iloc[PD_index]"
   ]
  },
  {
   "cell_type": "code",
   "execution_count": 14,
   "metadata": {},
   "outputs": [],
   "source": [
    "from random import sample\n",
    "\n",
    "list_of_subjects = [i for i in range(N)]\n",
    "\n",
    "PD_sample = sample((PD_index[0]).tolist(), len(PD_index[0]))\n",
    "Healthy_sample = sample((Healthy_index[0]).tolist(), len(Healthy_index[0]))"
   ]
  },
  {
   "cell_type": "code",
   "execution_count": 15,
   "metadata": {},
   "outputs": [],
   "source": [
    "def write_samples_filename(filename, ID_list):    \n",
    "    f = open(filename, \"w\")\n",
    "    for id in ID_list:\n",
    "        f.write(DBM_sample_filename(id)+ \"\\n\")\n",
    "    f.close()"
   ]
  },
  {
   "cell_type": "code",
   "execution_count": 16,
   "metadata": {},
   "outputs": [],
   "source": [
    "write_samples_filename(\"/data/origami/niusha/input/PD.txt\", PD_sample)\n",
    "write_samples_filename(\"/data/origami/niusha/input/H.txt\", Healthy_sample)"
   ]
  },
  {
   "cell_type": "code",
   "execution_count": null,
   "metadata": {},
   "outputs": [],
   "source": []
  }
 ],
 "metadata": {
  "kernelspec": {
   "display_name": "Python 3.9.12 ('base': conda)",
   "language": "python",
   "name": "python3"
  },
  "language_info": {
   "codemirror_mode": {
    "name": "ipython",
    "version": 3
   },
   "file_extension": ".py",
   "mimetype": "text/x-python",
   "name": "python",
   "nbconvert_exporter": "python",
   "pygments_lexer": "ipython3",
   "version": "3.9.16"
  },
  "orig_nbformat": 4,
  "vscode": {
   "interpreter": {
    "hash": "2e6114855ba1a4d6c35a41edbc290e56801ad2854d82bfb8bfb7b8b5d5c81da5"
   }
  }
 },
 "nbformat": 4,
 "nbformat_minor": 2
}
